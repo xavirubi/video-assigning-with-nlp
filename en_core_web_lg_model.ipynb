{
  "nbformat": 4,
  "nbformat_minor": 0,
  "metadata": {
    "colab": {
      "provenance": [],
      "authorship_tag": "ABX9TyO88XfvSNbc8T3X+BytuMH7",
      "include_colab_link": true
    },
    "kernelspec": {
      "name": "python3",
      "display_name": "Python 3"
    },
    "language_info": {
      "name": "python"
    }
  },
  "cells": [
    {
      "cell_type": "markdown",
      "metadata": {
        "id": "view-in-github",
        "colab_type": "text"
      },
      "source": [
        "<a href=\"https://colab.research.google.com/github/xavirubi/video-assigning-with-nlp/blob/main/en_core_web_lg_model.ipynb\" target=\"_parent\"><img src=\"https://colab.research.google.com/assets/colab-badge.svg\" alt=\"Open In Colab\"/></a>"
      ]
    },
    {
      "cell_type": "code",
      "execution_count": null,
      "metadata": {
        "id": "jj2B311Mg2QI"
      },
      "outputs": [],
      "source": [
        "!pip install -U spacy"
      ]
    },
    {
      "cell_type": "code",
      "source": [
        "!python -m spacy download en_core_web_lg"
      ],
      "metadata": {
        "id": "qlT4j1kqhYXp"
      },
      "execution_count": null,
      "outputs": []
    },
    {
      "cell_type": "code",
      "source": [
        "!pip install -U deep-translator"
      ],
      "metadata": {
        "id": "jho4VXhDhNEs"
      },
      "execution_count": null,
      "outputs": []
    },
    {
      "cell_type": "code",
      "source": [
        "import json\n",
        "import spacy\n",
        "from deep_translator import GoogleTranslator"
      ],
      "metadata": {
        "id": "HZLxDD1-hQre"
      },
      "execution_count": null,
      "outputs": []
    },
    {
      "cell_type": "code",
      "source": [
        "f_articles = open('articles.json')\n",
        "f_videos = open('videos.json')\n",
        "\n",
        "articles_data = json.load(f_articles)\n",
        "videos_data = json.load(f_videos)\n",
        "\n",
        "article_ids = list(article_id for article_id in articles_data.keys())\n",
        "video_ids = list(video_id for video_id in videos_data.keys())\n",
        "\n",
        "def article_keywords(id):\n",
        "\treturn articles_data[id][\"keywords\"]\n",
        "\n",
        "def video_keywords(id):\n",
        "\treturn videos_data[id][\"keywords\"]"
      ],
      "metadata": {
        "id": "JDS53rH7hQpb"
      },
      "execution_count": null,
      "outputs": []
    },
    {
      "cell_type": "code",
      "source": [
        "nlp = spacy.load(\"en_core_web_lg\")\n",
        "\n",
        "related = {i: [] for i in range(0, len(article_ids))}\n",
        "\n",
        "for i in range(0, len(article_ids)):\n",
        "  article = nlp(GoogleTranslator(source='es', target='en').translate(' '.join(article_keywords(article_ids[i]))))\n",
        "  for j in range(0, len(video_ids)):\n",
        "    video = nlp(GoogleTranslator(source='es', target='en').translate(' '.join(video_keywords(video_ids[j]))))\n",
        "    similarity = float(int(article.similarity(video) * 10000) / 100)\n",
        "    related[i].append((j, similarity))"
      ],
      "metadata": {
        "id": "B74sDwAjhQmr"
      },
      "execution_count": null,
      "outputs": []
    },
    {
      "cell_type": "code",
      "source": [
        "def convert_results_to_dict(related_videos):\n",
        "  for videos in related_videos.values():\n",
        "    videos.sort(key=lambda tup: tup[1], reverse=True)\n",
        "\n",
        "  for videos in related_videos.values():\n",
        "    while len(videos) > 3:\n",
        "      videos.pop(len(videos) - 1)\n",
        "\n",
        "  results = {article_id: {} for article_id in article_ids}\n",
        "  for article, videos in enumerate(related_videos.values()):\n",
        "    for video in videos:\n",
        "      results[article_ids[article]].update({video_ids[video[0]]: {\"score\": video[1]}})\n",
        "  return results\n",
        "\n",
        "results = convert_results_to_dict(related)"
      ],
      "metadata": {
        "id": "aFH5RvT2hQWm"
      },
      "execution_count": null,
      "outputs": []
    },
    {
      "cell_type": "code",
      "source": [
        "results_json = json.dumps(results, indent=4)\n",
        "\n",
        "with open(\"video_assigning_results.json\", \"w\") as outfile:\n",
        "\toutfile.write(results_json)"
      ],
      "metadata": {
        "id": "SEQSkgcunYwD"
      },
      "execution_count": null,
      "outputs": []
    }
  ]
}